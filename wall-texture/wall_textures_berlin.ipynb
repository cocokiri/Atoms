{
  "nbformat": 4,
  "nbformat_minor": 0,
  "metadata": {
    "colab": {
      "name": "wall_textures_berlin.ipynb",
      "version": "0.3.2",
      "provenance": [],
      "collapsed_sections": [],
      "include_colab_link": true
    },
    "kernelspec": {
      "name": "python3",
      "display_name": "Python 3"
    }
  },
  "cells": [
    {
      "cell_type": "markdown",
      "metadata": {
        "id": "view-in-github",
        "colab_type": "text"
      },
      "source": [
        "<a href=\"https://colab.research.google.com/github/cocokiri/Atoms/blob/master/wall-texture/wall_textures_berlin.ipynb\" target=\"_parent\"><img src=\"https://colab.research.google.com/assets/colab-badge.svg\" alt=\"Open In Colab\"/></a>"
      ]
    },
    {
      "cell_type": "markdown",
      "metadata": {
        "id": "HDFtI7OuRek1",
        "colab_type": "text"
      },
      "source": [
        "[link text](https:// [link text](https://))\n",
        "\n",
        "Private Group Google Doc for this project:\n",
        "https://docs.google.com/document/d/1I1sqdgZLiot2SU-lqlhVE05Z5utnvAHA6ue0gpegCUo/edit#\n",
        "##Todos\n",
        "\n",
        "\n",
        "*  Scrape Images\n",
        "*  Validate Labels (if bad, apply label smoothing)\n",
        "*  Get a baseline accuracy\n",
        "\n"
      ]
    },
    {
      "cell_type": "code",
      "metadata": {
        "id": "6jV7GvNYQ-6u",
        "colab_type": "code",
        "colab": {}
      },
      "source": [
        "from google.colab import drive"
      ],
      "execution_count": 0,
      "outputs": []
    },
    {
      "cell_type": "code",
      "metadata": {
        "id": "aT7T3VA_fIYW",
        "colab_type": "code",
        "colab": {}
      },
      "source": [
        ""
      ],
      "execution_count": 0,
      "outputs": []
    },
    {
      "cell_type": "code",
      "metadata": {
        "id": "lkHNGG9EhvgT",
        "colab_type": "code",
        "colab": {}
      },
      "source": [
        ""
      ],
      "execution_count": 0,
      "outputs": []
    }
  ]
}